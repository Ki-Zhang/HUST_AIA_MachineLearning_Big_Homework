{
 "cells": [
  {
   "attachments": {},
   "cell_type": "markdown",
   "metadata": {
    "collapsed": false
   },
   "source": [
    "# visdom 查看数据集"
   ]
  },
  {
   "cell_type": "code",
   "execution_count": 2,
   "metadata": {
    "ExecuteTime": {
     "end_time": "2023-06-05T10:08:32.842263400Z",
     "start_time": "2023-06-05T10:08:27.712553600Z"
    },
    "collapsed": true
   },
   "outputs": [],
   "source": [
    "import time\n",
    "import einops\n",
    "import visdom\n",
    "import numpy as np\n",
    "import torch\n",
    "from torch import nn\n",
    "from torch.utils.data import DataLoader\n",
    "from torchvision.datasets import ImageFolder\n",
    "from torchvision.transforms import transforms"
   ]
  },
  {
   "cell_type": "code",
   "execution_count": 3,
   "metadata": {
    "ExecuteTime": {
     "end_time": "2023-06-05T10:08:32.905371500Z",
     "start_time": "2023-06-05T10:08:32.844220500Z"
    },
    "collapsed": false
   },
   "outputs": [],
   "source": [
    "amazon = ImageFolder(root='office/amazon/images', transform=transforms.ToTensor())\n",
    "\n",
    "sample = torch.Tensor(np.array([amazon[i][0].numpy() for i in np.random.randint(10, 200, 4)]))\n"
   ]
  },
  {
   "cell_type": "code",
   "execution_count": 21,
   "metadata": {
    "ExecuteTime": {
     "end_time": "2023-06-03T02:48:08.912980100Z",
     "start_time": "2023-06-03T02:48:08.715256900Z"
    },
    "collapsed": false
   },
   "outputs": [
    {
     "name": "stderr",
     "output_type": "stream",
     "text": [
      "Setting up a new session...\n"
     ]
    },
    {
     "data": {
      "text/plain": [
       "'sample'"
      ]
     },
     "execution_count": 21,
     "metadata": {},
     "output_type": "execute_result"
    }
   ],
   "source": [
    "viz = visdom.Visdom()\n",
    "viz.images(sample, nrow=2, win='sample', opts=dict(title='sample'))"
   ]
  },
  {
   "attachments": {},
   "cell_type": "markdown",
   "metadata": {
    "collapsed": false
   },
   "source": [
    "# vit作为backbone"
   ]
  },
  {
   "attachments": {},
   "cell_type": "markdown",
   "metadata": {
    "collapsed": false
   },
   "source": [
    "# einops"
   ]
  },
  {
   "cell_type": "code",
   "execution_count": 5,
   "metadata": {
    "ExecuteTime": {
     "end_time": "2023-06-03T11:31:10.389029200Z",
     "start_time": "2023-06-03T11:31:10.377159900Z"
    },
    "collapsed": false
   },
   "outputs": [],
   "source": [
    "import einops\n",
    "import torch\n",
    "\n",
    "a = []\n",
    "for i in range(4):\n",
    "    a.append(torch.randn(2, 3))\n",
    "\n",
    "pa, ps = einops.pack(a, '* h w')"
   ]
  },
  {
   "cell_type": "code",
   "execution_count": 6,
   "metadata": {
    "ExecuteTime": {
     "end_time": "2023-06-03T11:31:11.490572500Z",
     "start_time": "2023-06-03T11:31:11.476508200Z"
    },
    "collapsed": false
   },
   "outputs": [
    {
     "data": {
      "text/plain": [
       "torch.Size([4, 2, 3])"
      ]
     },
     "execution_count": 6,
     "metadata": {},
     "output_type": "execute_result"
    }
   ],
   "source": [
    "pa.shape"
   ]
  },
  {
   "attachments": {},
   "cell_type": "markdown",
   "metadata": {},
   "source": [
    "# dataset"
   ]
  },
  {
   "cell_type": "code",
   "execution_count": 2,
   "metadata": {},
   "outputs": [],
   "source": [
    "import torch\n",
    "import torch.utils.data as data\n",
    "import torchvision.transforms as trans\n",
    "from PIL import Image\n",
    "from torchvision.datasets import ImageFolder\n"
   ]
  },
  {
   "cell_type": "code",
   "execution_count": 15,
   "metadata": {},
   "outputs": [],
   "source": [
    "class Office31_FS(ImageFolder):\n",
    "    def __init__(self, root, transform=None):\n",
    "        super(Office31_FS, self).__init__(root, transform)\n",
    "\n",
    "    def __getitem__(self, index):\n",
    "        img, label = super(Office31_FS, self).__getitem__(index)\n",
    "        return img\n",
    "    def __len__(self):\n",
    "        return super(Office31_FS, self).__len__()"
   ]
  },
  {
   "cell_type": "code",
   "execution_count": 17,
   "metadata": {},
   "outputs": [],
   "source": [
    "o = Office31_set(root='office/amazon/images', transform=trans.ToTensor())"
   ]
  },
  {
   "cell_type": "code",
   "execution_count": 1,
   "metadata": {
    "ExecuteTime": {
     "end_time": "2023-06-25T13:12:33.538995400Z",
     "start_time": "2023-06-25T13:12:33.485585600Z"
    }
   },
   "outputs": [],
   "source": [
    "import toml\n",
    "from box import Box\n"
   ]
  },
  {
   "cell_type": "code",
   "execution_count": 6,
   "metadata": {
    "ExecuteTime": {
     "end_time": "2023-06-25T13:13:23.481799100Z",
     "start_time": "2023-06-25T13:13:23.475803300Z"
    }
   },
   "outputs": [],
   "source": [
    "cfg = toml.load(\"./config.toml\")"
   ]
  },
  {
   "cell_type": "code",
   "execution_count": 7,
   "metadata": {
    "ExecuteTime": {
     "end_time": "2023-06-25T13:13:23.959347600Z",
     "start_time": "2023-06-25T13:13:23.954345800Z"
    }
   },
   "outputs": [],
   "source": [
    "cfg = Box(cfg)"
   ]
  },
  {
   "cell_type": "code",
   "execution_count": 8,
   "metadata": {
    "ExecuteTime": {
     "end_time": "2023-06-25T13:13:24.855765600Z",
     "start_time": "2023-06-25T13:13:24.835512500Z"
    }
   },
   "outputs": [
    {
     "data": {
      "text/plain": "'..\\\\checkpoint'"
     },
     "execution_count": 8,
     "metadata": {},
     "output_type": "execute_result"
    }
   ],
   "source": [
    "cfg.checkpoint"
   ]
  },
  {
   "cell_type": "code",
   "execution_count": 10,
   "metadata": {
    "ExecuteTime": {
     "end_time": "2023-06-25T13:13:32.239602Z",
     "start_time": "2023-06-25T13:13:32.227498200Z"
    }
   },
   "outputs": [
    {
     "data": {
      "text/plain": "'..\\\\data\\\\office31'"
     },
     "execution_count": 10,
     "metadata": {},
     "output_type": "execute_result"
    }
   ],
   "source": [
    "cfg.dataset.office31.root"
   ]
  },
  {
   "cell_type": "code",
   "execution_count": null,
   "outputs": [],
   "source": [],
   "metadata": {
    "collapsed": false
   }
  }
 ],
 "metadata": {
  "kernelspec": {
   "display_name": "Python 3",
   "language": "python",
   "name": "python3"
  },
  "language_info": {
   "codemirror_mode": {
    "name": "ipython",
    "version": 3
   },
   "file_extension": ".py",
   "mimetype": "text/x-python",
   "name": "python",
   "nbconvert_exporter": "python",
   "pygments_lexer": "ipython3",
   "version": "3.9.16"
  }
 },
 "nbformat": 4,
 "nbformat_minor": 0
}
